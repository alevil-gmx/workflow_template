{
 "cells": [
  {
   "cell_type": "code",
   "execution_count": null,
   "metadata": {
    "hide_input": true
   },
   "outputs": [],
   "source": [
    "%run src/init_notebooks.py\n",
    "hide_toggle()"
   ]
  },
  {
   "cell_type": "markdown",
   "metadata": {},
   "source": [
    "# A GROMACS - HADDOCK workflow - Title\n",
    "\n",
    "```\n",
    "Author                : XXX\n",
    "Goal                  : Provide a template for how to write a jupyter notebook for training purposes\n",
    "Time                  : 10 minutes reading time, no computation wait time\n",
    "Prerequisites         : Know how to run an md simulation\n",
    "Software requirements : GROMACS (version 2020) , vmd\n",
    "Tested for            : \n",
    "```\n",
    " "
   ]
  },
  {
   "cell_type": "markdown",
   "metadata": {},
   "source": [
    " # Use Case Introduction"
   ]
  },
  {
   "cell_type": "markdown",
   "metadata": {},
   "source": [
    " - Introduction of the use case \n",
    "   aim:\n",
    " \n",
    " - Specific problem \n",
    "\n",
    " - Introduction of use case as tutorial\n",
    " what they will learn from a tutorial\n",
    "  \n",
    " - References\n",
    "     - reading material"
   ]
  },
  {
   "cell_type": "markdown",
   "metadata": {},
   "source": [
    "# Description of the Workshop Flow"
   ]
  },
  {
   "cell_type": "markdown",
   "metadata": {},
   "source": [
    "### To Do\n",
    "- Description of the workshop \n",
    "  - \n",
    "- Add a picture of the workflow, gromacs, bioexcel \n",
    "\n",
    "![ImageNotFoundAlternativeTxt](images/Bioexcel_symbol.svg \"Text you will see when hovering over the logo with the mouse\")\n",
    "\n",
    "![ImageNotFoundAlternativeTxt](images/gmx_logo_blue.svg \"Logo Title\")\n",
    "\n",
    "![ImageNotFoundAlternativeTxt](images/non-existant.svg \"Logo Title Text 1\")\n",
    " \n",
    "\n"
   ]
  },
  {
   "cell_type": "markdown",
   "metadata": {},
   "source": [
    "# System setting"
   ]
  },
  {
   "cell_type": "markdown",
   "metadata": {},
   "source": [
    "The starting point is a antibody structure file. For this tutorial, we will utilize  XXXX (PDB code XXXX). This file is available from the RCSB website, https://www.rcsb.org/. For this tutorial, the PDB file for the crystal structure is depositied in this directory as \"xxx.pdb\" ."
   ]
  },
  {
   "cell_type": "code",
   "execution_count": null,
   "metadata": {},
   "outputs": [],
   "source": [
    "# Change to the data directory\n",
    "# Note that executing this command twice will result in an error you can ignore\n",
    "%cd data"
   ]
  },
  {
   "cell_type": "markdown",
   "metadata": {},
   "source": [
    "Below you can visualize the antibody structure  "
   ]
  },
  {
   "cell_type": "code",
   "execution_count": null,
   "metadata": {},
   "outputs": [],
   "source": [
    "import nglview as ng\n",
    "view = ng.show_file(\"input/xxx.pdb\", default=False)\n",
    "view\n",
    "# click and drag to rotate, zoom with your mouseweel \n",
    "# for more infor on this viewer have a look at https://github.com/nglviewer/nglview"
   ]
  },
  {
   "cell_type": "markdown",
   "metadata": {},
   "source": [
    "In alternative you can visualize the structure using a viewing program such as VMD.\n",
    "Note: close the VMD window after you are done looking at the protein to continue with this notebook"
   ]
  },
  {
   "cell_type": "code",
   "execution_count": null,
   "metadata": {},
   "outputs": [],
   "source": [
    "!vmd input/xxxx.pdb"
   ]
  },
  {
   "cell_type": "markdown",
   "metadata": {},
   "source": [
    "Once you've had a look at the molecule, you are going to check that only the protein is present in the pdb file. Otherwise strip out all the other molecules in the crystal . To delete the other molecules , either use a plain text editor like vi, emacs (Linux/Mac), or Notepad (Windows). Do not use word processing software! \n",
    "\n",
    "Always check your .pdb file for entries listed under the comment MISSING, as these entries indicate either atoms or whole residues that are not present in the crystal structure. Terminal regions may be absent, and may not present a problem for dynamics."
   ]
  },
  {
   "cell_type": "markdown",
   "metadata": {},
   "source": [
    "## Generating a topology"
   ]
  },
  {
   "cell_type": "markdown",
   "metadata": {},
   "source": [
    "Now the PDB file should contain only protein atoms, and is ready to be input into GROMACS. \n",
    "The first GROMACS tool, we use, is pdb2gmx. The purpose of pdb2gmx is to generate three files:\n",
    "\n",
    "* The topology for the molecule.\n",
    "* A position restraint file.\n",
    "* A post-processed structure file. \n",
    "\n",
    "The topology (topol.top by default) contains all the information necessary to define the molecule within a simulation. This information includes nonbonded parameters (atom types and charges) as well as bonded parameters (bonds, angles, dihedrals and atom connectivity)."
   ]
  },
  {
   "cell_type": "markdown",
   "metadata": {},
   "source": [
    "## Force Field"
   ]
  },
  {
   "cell_type": "markdown",
   "metadata": {},
   "source": [
    "Here, we made an important decision for the course of the simualtion in choosing the force field. Here we use CHARMM36m all-atom force field (see (here) for update in the CHARMM36 force field implementation for GROMACS http://mackerell.umaryland.edu/charmm_ff.shtml#gromacs. The force field files contain the information that will be written to the topology. "
   ]
  },
  {
   "cell_type": "code",
   "execution_count": null,
   "metadata": {},
   "outputs": [],
   "source": [
    "!tar xvf input/charmm36.tar"
   ]
  },
  {
   "cell_type": "code",
   "execution_count": null,
   "metadata": {},
   "outputs": [],
   "source": [
    "!gmx pdb2gmx -f input/xxx.pdb -p antibody.top -o antibody.gro -i posre -ff charmm36-jul2017 -water tip3p -ignh"
   ]
  },
  {
   "cell_type": "markdown",
   "metadata": {},
   "source": [
    "## defining simulation box"
   ]
  },
  {
   "cell_type": "code",
   "execution_count": null,
   "metadata": {},
   "outputs": [],
   "source": [
    "!gmx editconf -f antibody.gro -d 0.7 -bt dodecahedron -o box.gro"
   ]
  },
  {
   "cell_type": "markdown",
   "metadata": {},
   "source": [
    "## filling the box with water molecules"
   ]
  },
  {
   "cell_type": "code",
   "execution_count": null,
   "metadata": {},
   "outputs": [],
   "source": [
    "!gmx solvate -cp box.gro -p antibody.top -o water.gro"
   ]
  },
  {
   "cell_type": "markdown",
   "metadata": {},
   "source": [
    "## adding ions"
   ]
  },
  {
   "cell_type": "code",
   "execution_count": null,
   "metadata": {},
   "outputs": [],
   "source": [
    "!touch ion.mdp\n",
    "!gmx grompp -f ion.mdp -c water.gro -p antibody.top -o\n",
    "!echo 13 | gmx genion -s topol.tpr -p antibody.top -neutral -conc 0.15 -o startMM.gro"
   ]
  },
  {
   "cell_type": "markdown",
   "metadata": {},
   "source": [
    "# System equilibration"
   ]
  },
  {
   "cell_type": "code",
   "execution_count": null,
   "metadata": {},
   "outputs": [],
   "source": [
    "!mkdir MM\n",
    "!gmx grompp -f steep_charmm36m.mdp -c startMM.gro -p antibody.top -o MM/topol.tpr! \n",
    "!gmx mdrun -v -s MM/topol.tpr -deffnm antibody_MM\n",
    "!mkdir POS\n",
    "!gmx grompp -f md_eq_posre_charmm36m.mdp -c antibodyMM.gro -p antibody.top -o POS/topol.tpr \n",
    "!gmx mdrun -v -s POS/topol.tpr -deffnm antibody_P\n",
    "\n",
    "\n",
    "cd ..\n",
    "gmx grompp -f ../../../mdp_files/md_eq_posre_charmm36m.mdp -c MM/confout.gro  -r MM/confout.gro -p $name.top -o POS/topol.tpr\n",
    "#gmx grompp -f ../../../mdp_files/md_charmm36m.mdp -c POS/confout.gro -p $name.top -o MD/topol.tpr\n",
    "\n",
    "#cp topol.tpr in topol100.tpr\n",
    "#gmx convert-tpr -s topol100.tpr -extend 400000 -o topol.tpr"
   ]
  },
  {
   "cell_type": "markdown",
   "metadata": {},
   "source": [
    "## defining simulation box"
   ]
  },
  {
   "cell_type": "markdown",
   "metadata": {},
   "source": [
    "# Design principles for the tutorials"
   ]
  },
  {
   "cell_type": "markdown",
   "metadata": {},
   "source": [
    "# Writing the notebook"
   ]
  },
  {
   "cell_type": "markdown",
   "metadata": {},
   "source": [
    "- Style the notebook with style sheet provided in src\n",
    "    - Rationale: Easy way to set context for notebooks, create a \"GROMACS\"-tutorial feel\n",
    "    - Con: requires users to execute the first cell\n",
    "    - Pro: can serve as an introduction on how to execute cells"
   ]
  },
  {
   "cell_type": "markdown",
   "metadata": {},
   "source": [
    "- Write headers (# title, ## header2, etc.) in seperate cells \n",
    "    - Rationale: this enables folding of sections "
   ]
  },
  {
   "cell_type": "markdown",
   "metadata": {},
   "source": [
    "- Include images as\n",
    "\n",
    "![ImageNotFoundAlternativeTxt](images/Bioexcel_symbol.svg \"Text you will see when hovering over the logo with the mouse\")\n",
    "\n",
    "![ImageNotFoundAlternativeTxt](images/non-existant.svg \"Logo Title Text 1\")\n"
   ]
  },
  {
   "cell_type": "markdown",
   "metadata": {},
   "source": [
    "- Toggle solutions with the hide_toggle() function, hide the next cell with for_next=True"
   ]
  },
  {
   "cell_type": "code",
   "execution_count": null,
   "metadata": {
    "code_folding": []
   },
   "outputs": [],
   "source": [
    "#hide this cell\n",
    "hide_toggle()"
   ]
  },
  {
   "cell_type": "code",
   "execution_count": null,
   "metadata": {},
   "outputs": [],
   "source": [
    "hide_toggle(for_next=True)"
   ]
  },
  {
   "cell_type": "code",
   "execution_count": null,
   "metadata": {},
   "outputs": [],
   "source": [
    "#some solution that should not yet be visible"
   ]
  },
  {
   "cell_type": "markdown",
   "metadata": {},
   "source": [
    "more text"
   ]
  },
  {
   "cell_type": "markdown",
   "metadata": {},
   "source": [
    "# Common pitfalls"
   ]
  },
  {
   "cell_type": "markdown",
   "metadata": {},
   "source": [
    "- Cells are stuck in evaluation (marked with `[*]`)\n",
    "    - Reason: Cells are evaluated serially. Jupyter cannot run bash commands in the background. Especially when opening another programm, like vmd, the notebook requires that the window is closed before going further\n",
    "    - Solution : Make workshop participants aware of this \n",
    "    - Solution : Show users the kernel -> interrupt solution\n",
    "    - Solution : start evaluations in subprocess\n",
    "        - Con : spawning subprocesses from within notebooks depends on the python verion. \n",
    "        - Con : This requires some python boilerplate code that makes it harder to have a one-to-one correspondence of the command line command and what users will read in the notebook\n",
    "- Users don't notice that they can execute / run input cells with the run botton, but rather copy-paste or type into the command line\n",
    "- Users feel like they are taken through the notebooks via \"auto-pilot\"\n",
    "    - Solution: Include the `hide_toggles()` function\n",
    "    - Solution: Use quizzes\n",
    "    - Con: This requires executing the first line of code in the notebook to work well\n",
    "- The notebook is unaware of the changes to shell environment and variables changes when executed with '! command!\n",
    "    - Reason: Bash commands are executed in subshells \n",
    "- '!cd directory' does not work as expected\n",
    "    - Reason: Bash commands are executed in subshells \n",
    "    - Solution: use `%cd ` or `cd ` to permanently change the current directory\n",
    "    - Con: this is notebook 'magic' that might confuse useres\n",
    "- Loading environment modules does not work\n",
    "    - Reason: Bash commands are executed in subshells\n",
    "    - Solution: Use python module commands\n",
    "       - Con : Depends on the python version and importing external modules\n",
    "- Markdown cell line breaks look differnetly when markdown cells are executed\n",
    "- Showing contents of long files requires lots of scrolling\n",
    "  - Solution: use `%less filename`\n",
    "- Longer bash script is hard to read in a cell\n",
    "  - Solution: use `%bash` on top of the cell, then continue with usual bash"
   ]
  }
 ],
 "metadata": {
  "anaconda-cloud": {},
  "kernelspec": {
   "display_name": "Python 3",
   "language": "python",
   "name": "python3"
  },
  "language_info": {
   "codemirror_mode": {
    "name": "ipython",
    "version": 3
   },
   "file_extension": ".py",
   "mimetype": "text/x-python",
   "name": "python",
   "nbconvert_exporter": "python",
   "pygments_lexer": "ipython3",
   "version": "3.7.0"
  }
 },
 "nbformat": 4,
 "nbformat_minor": 2
}
