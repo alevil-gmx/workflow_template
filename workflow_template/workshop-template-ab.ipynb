{
 "cells": [
  {
   "cell_type": "markdown",
   "metadata": {},
   "source": [
    "<img src=\"images/logos.png\">\n",
    "\n"
   ]
  },
  {
   "cell_type": "code",
   "execution_count": null,
   "metadata": {
    "hide_input": true
   },
   "outputs": [],
   "source": [
    "%run src/init_notebooks.py\n",
    "hide_toggle()"
   ]
  },
  {
   "cell_type": "markdown",
   "metadata": {},
   "source": [
    "# A GROMACS - HADDOCK antibody workflow \n",
    "\n",
    "```\n",
    "Author                : Alessandra Villa, Zuzana Jandova\n",
    "Goal                  : Jupyter notebook for training purposes in antibody simulation and docking\n",
    "Time                  : 10 minutes reading time, no computation wait time\n",
    "Prerequisites         : Know how to run an md simulation, register with HADDOCK\n",
    "Software requirements : GROMACS (version 2020) , pdb-tools, python 2.7, HMMER, Biopandas, Biopython\n",
    "Tested for            : \n",
    "```\n",
    " "
   ]
  },
  {
   "cell_type": "markdown",
   "metadata": {},
   "source": [
    "# Table of Contents\n",
    "\n",
    "* [Use Case Introduction](#UCintro)\n",
    "* [Description of the Workflow](#Workflow)\n",
    "* [Structure preparation](#Structure)\n",
    "* [Molecular Dynamics with GROMACS](#MD)\n",
    "* [CDRs identification](#CDRs)\n",
    "* [Cluster antibody trajectory](#Cluster) \n",
    "* [Prepare HADDOCK json file](#HADDOCK)"
   ]
  },
  {
   "cell_type": "markdown",
   "metadata": {},
   "source": [
    " ## <a class=\"anchor\" id=\"UCintro\" > Use Case Introduction </a>"
   ]
  },
  {
   "cell_type": "markdown",
   "metadata": {},
   "source": [
    "\n",
    "Antibody design has grown into one of the fastest growing branches in the pharmaceutical industry. Antibodies promise extremely high specificity and the ability to use the body’s own immune system to kill e.g. tumors, however  their size and complexity make their computational design challenging. \n",
    " \n",
    "An antibody is a large protein that generally works by attaching itself to an antigen, which is a unique site of the pathogen. The binding harnesses the immune system to directly attack and destroy the pathogen. Antibodies can be highly specific while showing low immunogenicity, which is achieved by their unique structure. **The fragment crystallizable region (Fc region**) activates the immune response and is species specific, i.e. human Fc region should not evoke an immune response in humans.  **The fragment antigen-binding region (Fab region**) needs to be highly variable to be able to bind to antigens of various nature (high specificity).  The terminal (antigen recognising) domain of the Fab region is caleld **the variable domain (Fv domain)**.\n",
    " \n",
    "\n",
    "<figure >\n",
    "<img src=\"images/antibody_described.png\">\n",
    "</figure>\n",
    "\n",
    "The small part of the Fab region that binds the antigen is called **paratope**. The part of the antigen that binds to an antibody is called **epitope**. The paratope consists of six highly flexible loops, known as **complementarity-determining regions (CDRs)** or hypervariable loops whose sequence and conformation are altered to bind to different antigens.  \n",
    "\n",
    "\n",
    " - Specific problem \n",
    "\n",
    " - Introduction of use case as tutorial\n",
    " what they will learn from a tutorial\n",
    "  \n",
    " - References\n",
    "     - reading material\n"
   ]
  },
  {
   "cell_type": "markdown",
   "metadata": {},
   "source": [
    " ## <a class=\"anchor\" id=\"Workflow\"> Description of the Workflow </a>"
   ]
  },
  {
   "cell_type": "markdown",
   "metadata": {},
   "source": [
    "This jupyter notebook combines two approaches: molecular dynamics (MD) simulation with [GROMACS](http://www.gromacs.org/About_Gromacs) and molecular docking with [HADDOCK](https://www.bonvinlab.org/software/haddock2.4/) to provide a good starting point for antibody design. We improve the sampling of the CDRs  using MD, extract the most diverse loop conformations and prepare such ensemble for running with HADDOCK. \n",
    "\n",
    "\n",
    "\n",
    "<img src=\"images/UC1_example.png\" width=\"500\">\n",
    "\n",
    "\n",
    "To obtain the best prediction of a bound antibody-antigen complex, we will be using a worflow consisting of several steps. \n",
    "<img src=\"images/workflow.png\" width=\"900\">\n",
    "\n",
    "\n",
    "1. Download PDBs of antibody and antigen\n",
    "1. Pre-processing antibody pdb for HADDOCK\n",
    "1. Converting antibody pdb into GROMACS\n",
    "1. Generation of mdrun input file  \n",
    "1. Setup MD of unbound antibody (gmx) run mdrun (run local or on HPC - script)\n",
    "1. Trajectory postprocessing (remove pbc) gmx trjconv \n",
    "1. Define loop residues – (protocol Ambrosetti et al., 2020)\n",
    "1. Index on loop residues & backbone (gmx)\n",
    "1. Cluster MD of unbound antibody by loop residue conformations (gmx cluster) gromos\n",
    "1. extract 20 most populated cluster (automatic with gromos)\n",
    "1. Prepare clusters from MD for docking (renumber) ⟹ setup docking run json file\n",
    "\n",
    "\n",
    "\n",
    "\n"
   ]
  },
  {
   "cell_type": "markdown",
   "metadata": {},
   "source": [
    " ## System setting"
   ]
  },
  {
   "cell_type": "markdown",
   "metadata": {},
   "source": [
    "The starting point is a antibody structure file. For this tutorial, we will utilize a Fab part of an antibody (PDB code [3RVT](http://www.rcsb.org/structure/3RVT)) which binds to the group 1 house dust mite allergen (PDB code [3F5B](http://www.rcsb.org/structure/3F5B)). As a reference, a crystal structure of the complex is available (PDB code [3RVW](http://www.rcsb.org/structure/3RVW)). All files are available from the RCSB website, https://www.rcsb.org/. For this tutorial, the PDB file for the crystal structure is depositied in `input` directory as \"3RVT.pdb\" ."
   ]
  },
  {
   "cell_type": "markdown",
   "metadata": {},
   "source": [
    "Below you can visualize the antibody structure  "
   ]
  },
  {
   "cell_type": "markdown",
   "metadata": {},
   "source": [
    "In alternative you can visualize the structure using a viewing program such as VMD.\n",
    "Note: close the VMD window after you are done looking at the protein to continue with this notebook"
   ]
  },
  {
   "cell_type": "markdown",
   "metadata": {},
   "source": [
    "# <a class=\"anchor\" id=\"Structure\">Structure preparation </a>"
   ]
  },
  {
   "cell_type": "markdown",
   "metadata": {},
   "source": [
    "## Get your pdb"
   ]
  },
  {
   "cell_type": "code",
   "execution_count": null,
   "metadata": {},
   "outputs": [],
   "source": [
    "# Install ANARCI\n",
    "cd src/anarci-1.3\n",
    "python2.7 setup.py install\n",
    "cd ../.."
   ]
  },
  {
   "cell_type": "code",
   "execution_count": null,
   "metadata": {},
   "outputs": [],
   "source": []
  },
  {
   "cell_type": "markdown",
   "metadata": {},
   "source": [
    "In this step we will make use of the local version of [PDB-tools](http://www.bonvinlab.org/pdb-tools/). PDB-tools were designed to be a swiss-knife for the PDB format. They have no external dependencies, besides the Python programming language. You can find them on [Github](https://github.com/haddocking/pdb-tools) or as a webserver. [PDB-tools webserver](https://wenmr.science.uu.nl/pdbtools/) is a powerful tool that enables you to edit pdbs quickly and painlessly without any scripting knowledge."
   ]
  },
  {
   "cell_type": "code",
   "execution_count": null,
   "metadata": {},
   "outputs": [],
   "source": [
    "%cd data"
   ]
  },
  {
   "cell_type": "code",
   "execution_count": null,
   "metadata": {},
   "outputs": [],
   "source": [
    "!pdb_fetch -biounit 3RVT > 3RVT.pdb"
   ]
  },
  {
   "cell_type": "code",
   "execution_count": null,
   "metadata": {},
   "outputs": [],
   "source": [
    "representations=[\n",
    "    {\"type\": \"cartoon\", \"params\": {\n",
    "        \"sele\": \"protein and not ANI\", \"color\": \"chainname\", \n",
    "    }},\n",
    "    {\"type\": \"ball+stick\", \"params\": {\n",
    "        \"sele\": \"hetero\"\n",
    "    }},]   "
   ]
  },
  {
   "cell_type": "code",
   "execution_count": null,
   "metadata": {},
   "outputs": [],
   "source": [
    "import nglview as ng\n",
    "#view = ng.show_structure_file(\"3RVT.pdb\")\n",
    "view = ng.show_structure_file(\"3RVT.pdb\", defaultRepresentation= False)\n",
    "view.representations = representations\n",
    "view\n",
    "# click and drag to rotate, zoom with your mouseweel \n",
    "# for more infor on this viewer have a look at https://github.com/nglviewer/nglview"
   ]
  },
  {
   "cell_type": "markdown",
   "metadata": {},
   "source": [
    "### Clean your pdb\n"
   ]
  },
  {
   "cell_type": "code",
   "execution_count": null,
   "metadata": {},
   "outputs": [],
   "source": [
    "!pdb_chainxseg 3RVT.pdb > 3RVT_seg.pdb \n",
    "!pdb_splitseg 3RVT_seg.pdb \n",
    "!pdb_reres -501 3RVT_seg_D.pdb  > 3RVT_seg_D_ren.pdb  \n",
    "!pdb_merge 3RVT_seg_C.pdb 3RVT_seg_D_ren.pdb > 3RVT_merged.pdb \n",
    "!pdb_chain -A 3RVT_merged.pdb | pdb_seg| pdb_delhetatm | pdb_tidy  > 3RVT_clean.pdb  \n",
    "!sed -i \"\" '/ANISOU/d'  3RVT_clean.pdb  >> 3RVT_clean.pdb\n",
    "!rm *merged.pdb *seg* "
   ]
  },
  {
   "cell_type": "code",
   "execution_count": null,
   "metadata": {},
   "outputs": [],
   "source": [
    "%ls 3RVT_clean.pdb\n",
    "view = ng.show_file(\"3RVT_clean.pdb\",  defaultRepresentation= False)\n",
    "view.representations = representations\n",
    "view"
   ]
  },
  {
   "cell_type": "markdown",
   "metadata": {},
   "source": [
    "Once you've had a look at the molecule, you are going to check that only the protein is present in the pdb file. Otherwise strip out all the other molecules in the crystal . To delete the other molecules , either use a plain text editor like vi, emacs (Linux/Mac), or Notepad (Windows). Do not use word processing software! \n",
    "\n",
    "Always check your .pdb file for entries listed under the comment MISSING, as these entries indicate either atoms or whole residues that are not present in the crystal structure. Terminal regions may be absent, and may not present a problem for dynamics."
   ]
  },
  {
   "cell_type": "markdown",
   "metadata": {},
   "source": [
    "#  <a class=\"anchor\" id=\"MD\"> Molecular Dynamics with GROMACS </a >"
   ]
  },
  {
   "cell_type": "markdown",
   "metadata": {},
   "source": [
    "## Generating a topology"
   ]
  },
  {
   "cell_type": "markdown",
   "metadata": {},
   "source": [
    "Now the PDB file should contain only protein atoms, and is ready to be input into GROMACS. \n",
    "The first GROMACS tool, we use, is pdb2gmx. The purpose of pdb2gmx is to generate three files:\n",
    "\n",
    "* The topology for the molecule.\n",
    "* A position restraint file.\n",
    "* A post-processed structure file. \n",
    "\n",
    "The topology (topol.top by default) contains all the information necessary to define the molecule within a simulation. This information includes nonbonded parameters (atom types and charges) as well as bonded parameters (bonds, angles, dihedrals and atom connectivity)."
   ]
  },
  {
   "cell_type": "markdown",
   "metadata": {},
   "source": [
    "## Force Field"
   ]
  },
  {
   "cell_type": "markdown",
   "metadata": {},
   "source": [
    "Here, we made an important decision for the course of the simualtion in choosing the force field. Here we use CHARMM36m all-atom force field. Check [here](http://mackerell.umaryland.edu/charmm_ff.shtml#gromacs) for update in the CHARMM36 force field implementation for GROMACS . The force field files contain the information that will be written to the topology. "
   ]
  },
  {
   "cell_type": "code",
   "execution_count": null,
   "metadata": {},
   "outputs": [],
   "source": [
    "!tar xvf input/charmm36.tar"
   ]
  },
  {
   "cell_type": "markdown",
   "metadata": {},
   "source": [
    "Here we excecute [gmx pdb2gmx](http://manual.gromacs.org/documentation/current/onlinehelp/gmx-pdb2gmx.html)"
   ]
  },
  {
   "cell_type": "code",
   "execution_count": null,
   "metadata": {},
   "outputs": [],
   "source": [
    "!gmx pdb2gmx -f input/3RVW_antibody.pdb -p antibody.top -o antibody.gro -i posre -ff charmm36-jul2017 -water tip3p -ignh"
   ]
  },
  {
   "cell_type": "markdown",
   "metadata": {},
   "source": [
    "## Defining a simulation box"
   ]
  },
  {
   "cell_type": "code",
   "execution_count": null,
   "metadata": {
    "scrolled": true
   },
   "outputs": [],
   "source": [
    "!gmx editconf -f antibody.gro -d 0.7 -bt dodecahedron -o antibody_box.gro"
   ]
  },
  {
   "cell_type": "markdown",
   "metadata": {},
   "source": [
    "## Solvating the simulation system"
   ]
  },
  {
   "cell_type": "code",
   "execution_count": null,
   "metadata": {},
   "outputs": [],
   "source": [
    "!gmx solvate -cp antibody_box.gro -p antibody.top -o water.gro"
   ]
  },
  {
   "cell_type": "markdown",
   "metadata": {},
   "source": [
    "## Adding ions "
   ]
  },
  {
   "cell_type": "markdown",
   "metadata": {},
   "source": [
    "We now have a solvated system that contains a charged protein. The output of pdb2gmx told us that the protein has a net charge of 3e (based on its amino acid composition). If you missed this information in the pdb2gmx output, look at the last line of each [ atoms ] directive in topology file; it should read  \"qtot -1.\" for chain A and  \"qtot 4.\" for chain B. Since life does not exist at a net charge, we must add ions to our system. Further, we aim to approximate physiological conditions and use therefore a NaCl concentration of 0.15 M."
   ]
  },
  {
   "cell_type": "code",
   "execution_count": null,
   "metadata": {},
   "outputs": [],
   "source": [
    "!touch ion.mdp\n",
    "!gmx grompp -f ion.mdp -c water.gro -p antibody.top -o\n",
    "!echo 13 | gmx genion -s topol.tpr -p antibody.top -neutral -conc 0.15 -o antibody.gro"
   ]
  },
  {
   "cell_type": "markdown",
   "metadata": {},
   "source": [
    "# Energy minimization"
   ]
  },
  {
   "cell_type": "markdown",
   "metadata": {},
   "source": [
    "The solvated, electroneutral system is now assembled. Before we can begin dynamics, we must ensure that the system has no steric clashes or inappropriate geometry. The structure is relaxed through a process called energy minimization (EM)."
   ]
  },
  {
   "cell_type": "code",
   "execution_count": null,
   "metadata": {},
   "outputs": [],
   "source": [
    " !cat input/emin-charmm.mdp"
   ]
  },
  {
   "cell_type": "code",
   "execution_count": null,
   "metadata": {},
   "outputs": [],
   "source": [
    "!gmx grompp -f input/emin-charmm.mdp -c antibody.gro -p antibody.top -o em.tpr \n",
    "!gmx mdrun -v -s em.tpr -deffnm antibody_em\n",
    "\n",
    "#gmx grompp -f ../../../mdp_files/md_charmm36m.mdp -c POS/confout.gro -p $name.top -o MD/topol.tpr\n",
    "#cp topol.tpr in topol100.tpr\n",
    "#gmx convert-tpr -s topol100.tpr -extend 400000 -o topol.tpr"
   ]
  },
  {
   "cell_type": "markdown",
   "metadata": {},
   "source": [
    "# Relaxing solvent and ions positions"
   ]
  },
  {
   "cell_type": "markdown",
   "metadata": {},
   "source": [
    "EM ensured that we have a reasonable starting structure, in terms of geometry and solvent orientation. To begin real dynamics, we must equilibrate the solvent and ions around the protein. If we were to attempt unrestrained dynamics at this point, the system may collapse. The reason is that the solvent is mostly optimized within itself, and not necessarily with the solute, and ions are randomly placed by replacing water molecules.\n",
    "\n",
    "Among other files, gmx pdb2gmx generated a file, called posre.itp  The purpose of posre.itp is to apply a position restraining force on the heavy atoms of the protein (anything that is not a hydrogen). Movement is permitted, but only after overcoming a substantial energy penalty. The utility of position restraints is that they allow us to relax our solvent and ions around our protein, without the added variable of structural changes in the protein. The origin of the position restraints (the coordinates at which the restraint potential is zero) is provided via a coordinate file passed to the -r option of grompp. Depending from the protein and ion types, this process may also be in the order nanoseconds."
   ]
  },
  {
   "cell_type": "code",
   "execution_count": null,
   "metadata": {},
   "outputs": [],
   "source": [
    "!cat input/md_eq_posre_charmm36m.mdp"
   ]
  },
  {
   "cell_type": "code",
   "execution_count": null,
   "metadata": {},
   "outputs": [],
   "source": [
    "!gmx grompp -f input/md_eq_posre_charmm36m.mdp -c antibody_em.gro -p antibody.top -o posre.tpr -r antibody_em.gro\n",
    "!gmx mdrun -v -s posre.tpr -deffnm antibody_posre"
   ]
  },
  {
   "cell_type": "markdown",
   "metadata": {},
   "source": [
    "Upon completion of the the equilibration phase, the system is now equilibrated at the desired temperature and pressure. We are now ready to release the position restraints and run production MD for data collection. We will make use of the checkpoint file (which in this case now contains preserve pressure coupling information) to grompp. We will run a 100ns MD simulation. We use velocity-rescaling temperature coupling as thermostat and stochastic cell rescaling as barostat. A full explanation of the available thermostats and barostats in GROMACS can be found in the manual (see [here](http://manual.gromacs.org/documentation/current/reference-manual/algorithms/molecular-dynamics.html#temperature-coupling) for thermostat and [here](http://manual.gromacs.org/documentation/current/reference-manual/algorithms/molecular-dynamics.html#pressure-coupling) for barostat)"
   ]
  },
  {
   "cell_type": "code",
   "execution_count": null,
   "metadata": {},
   "outputs": [],
   "source": [
    "!cat input/md_charmm36m.mdp"
   ]
  },
  {
   "cell_type": "code",
   "execution_count": null,
   "metadata": {},
   "outputs": [],
   "source": [
    "!gmx grompp -f input/md_charmm36m.mdp -c antibody_posre.gro -t antibody_posre.cpt -p antibody.top -o antibody_md.tpr\n",
    "!gmx mdrun -ntmpi 1 -v -deffnm antibody_md"
   ]
  },
  {
   "cell_type": "markdown",
   "metadata": {},
   "source": [
    "Approach to select the structure for HADDOCK \n",
    "* fit backbone\n",
    "* selection of variable loop (Ambrosetti et al.2020)\n",
    "* cluster analysisi\n",
    "* 20 high populated clusters will be given as input to HADDOCK "
   ]
  },
  {
   "cell_type": "code",
   "execution_count": null,
   "metadata": {},
   "outputs": [],
   "source": [
    "!echo 1 | gmx trjconv -f antibody_md.xtc -s em.tpr -pbc nojump -o traj_nojump.xtc"
   ]
  },
  {
   "cell_type": "code",
   "execution_count": null,
   "metadata": {},
   "outputs": [],
   "source": [
    "!echo 4 1 | gmx trjconv -f traj_nojump.xtc -s em.tpr -fit rot+trans -o antibody_fit.xtc"
   ]
  },
  {
   "cell_type": "code",
   "execution_count": null,
   "metadata": {},
   "outputs": [],
   "source": [
    "import nglview as ng \n",
    "import mdtraj as md\n",
    "traj = md.load(\"antibody_fit.xtc\",top=\"antibody_box.gro\")\n",
    "view = ng.show_mdtraj(traj)\n",
    "view"
   ]
  },
  {
   "cell_type": "code",
   "execution_count": null,
   "metadata": {},
   "outputs": [],
   "source": [
    "!echo 20 1 |gmx cluster -f antibody_fit.xtc -cl cluster-gromos.pdb -s em.tpr -n input/loop_index.ndx -b 1000 -method gromos -cutoff 0.13 -nofit -g cluster-gromos.log"
   ]
  },
  {
   "cell_type": "code",
   "execution_count": null,
   "metadata": {},
   "outputs": [],
   "source": [
    "!echo 20 1 |gmx cluster -f antibody_fit.xtc -cl cluster-jp.pdb -s em.tpr -n input/loop_index.ndx -b 1000 -method jarvis-patrick -cutoff 0.13 -nofit -g cluster-jp.log"
   ]
  },
  {
   "cell_type": "markdown",
   "metadata": {},
   "source": [
    "# <a class=\"anchor\" id=\"CDRs\"> CDRs identification </a >"
   ]
  },
  {
   "cell_type": "markdown",
   "metadata": {},
   "source": [
    "Antibodies are created by two identical pairs of  **light (L)** and **heavy (H)** chains. As shown above the variable domains of both chains are involved in the antigen recognition [1]. Each chain contains three <font color=\"#8F0306\">**CDRs** (in red) </font>in their variable domain, which show the highest level of variability and directly interact with the antigen [2, 3]. \n",
    "Each CDR contains one <font color=\"#8F0306\">**hyper variable loop (HV)** </font>(six loops in total) which are crucial for the recognition of the cognate antigen.\n",
    "\n",
    "<img src=\"images/CDRs.png\" width=\"600\">\n",
    "\n",
    "In this notbeook we will be using the protocol of [Ambrosetti, et al ArXiv, 2020](https://www.biorxiv.org/content/10.1101/2020.03.18.967828v1) to identify CDRs residues and convert them to the GROMACS format for further trajectory clustering.\n",
    "\n",
    "1. Novotný J, Bruccoleri R, Newell J, et al (1983) Molecular anatomy of the antibody\n",
    "binding site. J Biol Chem 258:14433–14437\n",
    "2. Sela-Culang I, Kunik V, Ofran Y (2013) The Structural Basis of Antibody-Antigen\n",
    "Recognition. Front Immunol 4:302. https://doi.org/10.3389/fimmu.2013.00302\n",
    "3. MacCallum RM, Martin ACR, Thornton JM (1996) Antibody-antigen interactions:\n",
    "Contact analysis and binding site topography. J Mol Biol 262:732–745.\n",
    "https://doi.org/10.1006/jmbi.1996.0548"
   ]
  },
  {
   "cell_type": "code",
   "execution_count": null,
   "metadata": {},
   "outputs": [],
   "source": [
    "\n",
    "%cd data\n",
    "# Renumber antibody with the Chothia scheme\n",
    "!python2.7 ../scripts/ImmunoPDB.py -i input/3RVT.pdb -o 3RVT_ch.pdb --scheme c --rename --splitscfv\n",
    "\n",
    "# Format the antib-ody in order to fit the HADDOCK format requirements\n",
    "# and extract the HV loop residues and save them into a file\n",
    "!python ../scripts/ab_haddock_format.py 3RVT_ch.pdb 3RVT_HADDOCK.pdb A > active.txt\n",
    "\n",
    "# Add END and TER statements to the .pdb file\n",
    "!pdb_tidy 3RVT_HADDOCK.pdb > oo; mv oo 3RVT_HADDOCK.pdb\n"
   ]
  },
  {
   "cell_type": "code",
   "execution_count": null,
   "metadata": {},
   "outputs": [],
   "source": [
    "!pwd\n",
    "%cd ../"
   ]
  },
  {
   "cell_type": "markdown",
   "metadata": {},
   "source": [
    "## Visualise CDR residues"
   ]
  },
  {
   "cell_type": "code",
   "execution_count": null,
   "metadata": {},
   "outputs": [],
   "source": [
    "f = open(\"data/active.txt\")\n",
    "lines=f.read()\n",
    "representations=[\n",
    "    {\"type\": \"cartoon\", \"params\": {\n",
    "        \"sele\": \"protein and not ANI\", \"color\": \"chainname\", \n",
    "    }},\n",
    "    {\"type\": \"hyperball\", 'params': {\"sele\":lines, \"color\":\"orange\"}}\n",
    "]        "
   ]
  },
  {
   "cell_type": "code",
   "execution_count": null,
   "metadata": {},
   "outputs": [],
   "source": [
    "\n",
    "\n",
    "print(lines)\n",
    "view = ng.show_file('data/3RVT_HADDOCK.pdb', defaultRepresentation= False)\n",
    "view.representations = representations\n",
    "view"
   ]
  },
  {
   "cell_type": "markdown",
   "metadata": {},
   "source": [
    "## Turn CDR residues into index file to cluster antibody trajectory"
   ]
  },
  {
   "cell_type": "code",
   "execution_count": null,
   "metadata": {},
   "outputs": [],
   "source": [
    "%cd data \n",
    "\n",
    "!echo -e  $(sed -e  '1 s/./ri /' -e 's/,/ /g'  active.txt)'\\n' name 15 CDRs '\\n'q  | gmx make_ndx -f topol.tpr -o index_jupy.ndx"
   ]
  },
  {
   "cell_type": "code",
   "execution_count": null,
   "metadata": {},
   "outputs": [],
   "source": [
    "!tail -n 45 index_jupy.ndx"
   ]
  },
  {
   "cell_type": "code",
   "execution_count": null,
   "metadata": {},
   "outputs": [],
   "source": []
  },
  {
   "cell_type": "markdown",
   "metadata": {},
   "source": [
    "# <a class=\"anchor\" id=\"Cluster\">  Cluster antibody trajectory </a>"
   ]
  },
  {
   "cell_type": "markdown",
   "metadata": {},
   "source": [
    "## Create an ensemble for docking"
   ]
  },
  {
   "cell_type": "code",
   "execution_count": null,
   "metadata": {},
   "outputs": [],
   "source": [
    "%cd data\n",
    "!pdb_mkensemble input/3RVT.pdb input1.pdb input1.pdb > 3RVT_ensemble.pdb"
   ]
  },
  {
   "cell_type": "markdown",
   "metadata": {},
   "source": [
    "# <a class=\"anchor\" id=\"HADDOCK\">  Prepare HADDOCK `json` file </a>"
   ]
  },
  {
   "cell_type": "markdown",
   "metadata": {},
   "source": [
    "We prepared a sample HADDOCK `json` file that one can submit to the [Submit file interface](https://bianca.science.uu.nl/haddock2.4/submit_file) of HADDOCK2.4. First one needs to register  for all HADDOCK services [https://bianca.science.uu.nl/auth/register/](https://bianca.science.uu.nl/auth/register/). Then we will modify the `json` file with a few available scripts to update it with our newly created pdb. In this case we use ambiguous restraints created from the reference crystal structure (PDB ID [3RVW](https://www.rcsb.org/structure/3RVW)). They were defined based on the true interface (all residues within 3.9Å from the other protein) and are also located in `data/input/ambig.tbl`.  If one wishes to replace them too, there is a script `data/script/replace_tbl.py` which updates the restraint as well. Here one needs to specify which type of restraints they want to replace (`-type (ambig,unambig,hbond,dihedral)`). In this scenario we are using increased sampling such that each antibody conformer is used in 100 model for it0 - rigid body docking. In this case we have an ensemble of 12 conformers, thus 1200 structures geenrated in it0 (`structures_0`). Further, we increase sampling from 200 to 400 per it1 (`structures_1`) and it1 water (`waterrefine`) and in the analysis part (`anastruc_1`) too. These changes are already included in the sample `json` file, thus do not need to be modified manually.   \n",
    "\n",
    "\n",
    "### Modified sampling parameters:\n",
    "\n",
    "`\"anastruc_1\": 400,\n",
    "\"structures_0\": 1200,\n",
    "\"structures_1\": 400,\n",
    "\"waterrefine\": 400,`"
   ]
  },
  {
   "cell_type": "code",
   "execution_count": null,
   "metadata": {},
   "outputs": [],
   "source": [
    "%cd data\n",
    "python  ../scripts/rswieplace_pdb.py  -param input/job_params.json -pdb input/3RVT_ensemble.pdb -i 1 > new.json"
   ]
  },
  {
   "cell_type": "markdown",
   "metadata": {},
   "source": [
    "Visit [https://bianca.science.uu.nl/haddock2.4/submit_file](https://bianca.science.uu.nl/haddock2.4/submit_file) and upload the `json` file. "
   ]
  },
  {
   "cell_type": "code",
   "execution_count": null,
   "metadata": {},
   "outputs": [],
   "source": [
    "%pwd"
   ]
  },
  {
   "cell_type": "markdown",
   "metadata": {},
   "source": [
    "# Writing the notebook"
   ]
  },
  {
   "cell_type": "markdown",
   "metadata": {},
   "source": [
    "- Style the notebook with style sheet provided in src\n",
    "    - Rationale: Easy way to set context for notebooks, create a \"GROMACS\"-tutorial feel\n",
    "    - Con: requires users to execute the first cell\n",
    "    - Pro: can serve as an introduction on how to execute cells"
   ]
  },
  {
   "cell_type": "markdown",
   "metadata": {},
   "source": [
    "- Write headers (# title, ## header2, etc.) in seperate cells \n",
    "    - Rationale: this enables folding of sections "
   ]
  },
  {
   "cell_type": "markdown",
   "metadata": {},
   "source": [
    "- Include images as\n",
    "\n",
    "![ImageNotFoundAlternativeTxt](images/Bioexcel_symbol.svg \"Text you will see when hovering over the logo with the mouse\")\n",
    "\n",
    "![ImageNotFoundAlternativeTxt](images/non-existant.svg \"Logo Title Text 1\")\n"
   ]
  },
  {
   "cell_type": "markdown",
   "metadata": {},
   "source": [
    "- Toggle solutions with the hide_toggle() function, hide the next cell with for_next=True"
   ]
  },
  {
   "cell_type": "code",
   "execution_count": null,
   "metadata": {
    "code_folding": []
   },
   "outputs": [],
   "source": [
    "#hide this cell\n",
    "hide_toggle()"
   ]
  },
  {
   "cell_type": "code",
   "execution_count": null,
   "metadata": {},
   "outputs": [],
   "source": [
    "hide_toggle(for_next=True)"
   ]
  },
  {
   "cell_type": "code",
   "execution_count": null,
   "metadata": {},
   "outputs": [],
   "source": [
    "#some solution that should not yet be visible"
   ]
  },
  {
   "cell_type": "markdown",
   "metadata": {},
   "source": [
    "more text"
   ]
  },
  {
   "cell_type": "markdown",
   "metadata": {},
   "source": [
    "# Common pitfalls"
   ]
  },
  {
   "cell_type": "markdown",
   "metadata": {},
   "source": [
    "- Cells are stuck in evaluation (marked with `[*]`)\n",
    "    - Reason: Cells are evaluated serially. Jupyter cannot run bash commands in the background. Especially when opening another programm, like vmd, the notebook requires that the window is closed before going further\n",
    "    - Solution : Make workshop participants aware of this \n",
    "    - Solution : Show users the kernel -> interrupt solution\n",
    "    - Solution : start evaluations in subprocess\n",
    "        - Con : spawning subprocesses from within notebooks depends on the python verion. \n",
    "        - Con : This requires some python boilerplate code that makes it harder to have a one-to-one correspondence of the command line command and what users will read in the notebook\n",
    "- Users don't notice that they can execute / run input cells with the run botton, but rather copy-paste or type into the command line\n",
    "- Users feel like they are taken through the notebooks via \"auto-pilot\"\n",
    "    - Solution: Include the `hide_toggles()` function\n",
    "    - Solution: Use quizzes\n",
    "    - Con: This requires executing the first line of code in the notebook to work well\n",
    "- The notebook is unaware of the changes to shell environment and variables changes when executed with '! command!\n",
    "    - Reason: Bash commands are executed in subshells \n",
    "- '!cd directory' does not work as expected\n",
    "    - Reason: Bash commands are executed in subshells \n",
    "    - Solution: use `%cd ` or `cd ` to permanently change the current directory\n",
    "    - Con: this is notebook 'magic' that might confuse useres\n",
    "- Loading environment modules does not work\n",
    "    - Reason: Bash commands are executed in subshells\n",
    "    - Solution: Use python module commands\n",
    "       - Con : Depends on the python version and importing external modules\n",
    "- Markdown cell line breaks look differnetly when markdown cells are executed\n",
    "- Showing contents of long files requires lots of scrolling\n",
    "  - Solution: use `%less filename`\n",
    "- Longer bash script is hard to read in a cell\n",
    "  - Solution: use `%bash` on top of the cell, then continue with usual bash"
   ]
  }
 ],
 "metadata": {
  "anaconda-cloud": {},
  "kernelspec": {
   "display_name": "Python 3",
   "language": "python",
   "name": "python3"
  },
  "language_info": {
   "codemirror_mode": {
    "name": "ipython",
    "version": 3
   },
   "file_extension": ".py",
   "mimetype": "text/x-python",
   "name": "python",
   "nbconvert_exporter": "python",
   "pygments_lexer": "ipython3",
   "version": "3.6.15"
  }
 },
 "nbformat": 4,
 "nbformat_minor": 2
}
